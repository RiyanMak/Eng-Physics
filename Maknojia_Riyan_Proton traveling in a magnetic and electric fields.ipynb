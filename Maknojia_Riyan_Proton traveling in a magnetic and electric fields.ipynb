{
 "cells": [
  {
   "cell_type": "code",
   "execution_count": null,
   "id": "aea6b4d1",
   "metadata": {},
   "outputs": [],
   "source": [
    "# import vpython as vp\n",
    "import numpy as np\n",
    "import vpython as vp\n",
    "\n",
    "\n",
    "scene = vp.canvas()\n",
    "\n",
    "# Constants\n",
    "m = 1.67e-27  # Mass of proton (kg)\n",
    "q = 1.6e-19  # Charge of proton (C)\n",
    "\n",
    "# Scenario 1\n",
    "v0 = 6e7  # Initial speed (m/s)\n",
    "B = vp.vector(0, 0, -0.5)  # Magnetic field (T)\n",
    "\n",
    "# Scenario 1 calculations\n",
    "R = m * v0 / (q * B.mag)\n",
    "T = (np.pi) * (2 * R / v0)\n",
    "\n",
    "# Scenario 1 simulation\n",
    "proton = vp.sphere(pos=vp.vector(0, -R, 0), radius=0.01, v=vp.vector(v0,0,0), color=vp.color.red, make_trail=True)\n",
    "#proton.v = vp.vec(v, 0, 0)\n",
    "t = 0\n",
    "dt = .0001*T\n",
    "\n",
    "while t < T:\n",
    "    vp.rate(1200)\n",
    "    F = vp.cross(proton.v, B) * q\n",
    "    a = F / m\n",
    "    proton.v += a * dt\n",
    "    proton.pos += proton.v * dt\n",
    "    t += dt"
   ]
  },
  {
   "cell_type": "code",
   "execution_count": null,
   "id": "7b759499",
   "metadata": {},
   "outputs": [],
   "source": [
    "import vpython as vp\n",
    "import numpy as np\n",
    "\n",
    "\n",
    "scene = vp.canvas()\n",
    "\n",
    "# Constants\n",
    "m = 1.67e-27  # Mass of proton (kg)\n",
    "q = 1.6e-19  # Charge of proton (C)\n",
    "\n",
    "# Function to calculate force\n",
    "def lorentz_force(E, B, proton):  # Pass the proton object\n",
    "    return (E + vp.cross(proton.v, B)) * q # Use proton.v for velocity\n",
    "\n",
    "# Scenario 2 parameters\n",
    "v0_2 = vp.vector(0, 6e7, 0)  # Initial velocity\n",
    "B_2 = vp.vector(0.5, 0, 0)  # Magnetic field\n",
    "E_2 = vp.vector(5e5, 0, 0)  # Electric field\n",
    "\n",
    "# Calculations for Scenario 2 \n",
    "R = m * v0_2.mag / (q * B_2.mag)\n",
    "T = (np.pi) * (2 * R / v0_2.mag)\n",
    "\n",
    "# Simulation\n",
    "proton2 = vp.sphere(pos=vp.vector(0, 0, 0), radius=0.01, v=v0_2, color=vp.color.green, make_trail=True)\n",
    "t = 0\n",
    "dt = .0001 * T \n",
    "\n",
    "while t < 6 * T:\n",
    "    vp.rate(1200)\n",
    "    F = lorentz_force(E_2, B_2, proton2)  # Pass the proton object\n",
    "    a = F / m\n",
    "    proton2.v += a * dt\n",
    "    proton2.pos += proton2.v * dt\n",
    "    t += dt"
   ]
  },
  {
   "cell_type": "code",
   "execution_count": null,
   "id": "38c1edf4",
   "metadata": {},
   "outputs": [],
   "source": [
    "import vpython as vp\n",
    "import numpy as np\n",
    "\n",
    "\n",
    "scene = vp.canvas()\n",
    "\n",
    "# Constants\n",
    "m = 1.67e-27  # Mass of proton (kg)\n",
    "q = 1.6e-19  # Charge of proton (C)\n",
    "\n",
    "# Function to calculate force\n",
    "def lorentz_force(B, proton):  # Pass the proton object\n",
    "    return (vp.cross(proton.v, B)) * q # Use proton.v for velocity\n",
    "\n",
    "# Scenario 2 parameters\n",
    "v0_2 = vp.vector(5e6, 2e7, 0)  # Initial velocity\n",
    "B_2 = vp.vector(0.5, 0, 0)  # Magnetic field\n",
    "  # Electric field\n",
    "\n",
    "# Calculations for Scenario 2 \n",
    "R = m * v0_2.mag / (q * B_2.mag)\n",
    "T = (np.pi) * (2 * R / v0_2.mag)\n",
    "\n",
    "# Simulation\n",
    "proton2 = vp.sphere(pos=vp.vector(0, 0, 0), radius=0.01, v=v0_2, color=vp.color.green, make_trail=True)\n",
    "t = 0\n",
    "dt = .0001 * T \n",
    "\n",
    "while t < 6 * T:\n",
    "    vp.rate(1200)\n",
    "    F = lorentz_force(B_2, proton2)  # Pass the proton object\n",
    "    a = F / m\n",
    "    proton2.v += a * dt\n",
    "    proton2.pos += proton2.v * dt\n",
    "    t += dt\n"
   ]
  },
  {
   "cell_type": "code",
   "execution_count": 1,
   "id": "93ccde34",
   "metadata": {},
   "outputs": [
    {
     "data": {
      "text/html": [
       "<div id=\"glowscript\" class=\"glowscript\"></div>"
      ],
      "text/plain": [
       "<IPython.core.display.HTML object>"
      ]
     },
     "metadata": {},
     "output_type": "display_data"
    },
    {
     "data": {
      "application/javascript": [
       "if (typeof Jupyter !== \"undefined\") { window.__context = { glowscript_container: $(\"#glowscript\").removeAttr(\"id\")};}else{ element.textContent = ' ';}"
      ],
      "text/plain": [
       "<IPython.core.display.Javascript object>"
      ]
     },
     "metadata": {},
     "output_type": "display_data"
    },
    {
     "data": {
      "text/html": [
       "<div id=\"glowscript\" class=\"glowscript\"></div>"
      ],
      "text/plain": [
       "<IPython.core.display.HTML object>"
      ]
     },
     "metadata": {},
     "output_type": "display_data"
    },
    {
     "data": {
      "application/javascript": [
       "if (typeof Jupyter !== \"undefined\") { window.__context = { glowscript_container: $(\"#glowscript\").removeAttr(\"id\")};}else{ element.textContent = ' ';}"
      ],
      "text/plain": [
       "<IPython.core.display.Javascript object>"
      ]
     },
     "metadata": {},
     "output_type": "display_data"
    },
    {
     "data": {
      "application/javascript": [
       "if (typeof Jupyter !== \"undefined\") {require.undef(\"nbextensions/vpython_libraries/glow.min\");}else{element.textContent = ' ';}"
      ],
      "text/plain": [
       "<IPython.core.display.Javascript object>"
      ]
     },
     "metadata": {},
     "output_type": "display_data"
    },
    {
     "data": {
      "application/javascript": [
       "if (typeof Jupyter !== \"undefined\") {require.undef(\"nbextensions/vpython_libraries/glowcomm\");}else{element.textContent = ' ';}"
      ],
      "text/plain": [
       "<IPython.core.display.Javascript object>"
      ]
     },
     "metadata": {},
     "output_type": "display_data"
    },
    {
     "data": {
      "application/javascript": [
       "if (typeof Jupyter !== \"undefined\") {require.undef(\"nbextensions/vpython_libraries/jquery-ui.custom.min\");}else{element.textContent = ' ';}"
      ],
      "text/plain": [
       "<IPython.core.display.Javascript object>"
      ]
     },
     "metadata": {},
     "output_type": "display_data"
    },
    {
     "data": {
      "application/javascript": [
       "if (typeof Jupyter !== \"undefined\") {require([\"nbextensions/vpython_libraries/glow.min\"], function(){console.log(\"GLOW LOADED\");});}else{element.textContent = ' ';}"
      ],
      "text/plain": [
       "<IPython.core.display.Javascript object>"
      ]
     },
     "metadata": {},
     "output_type": "display_data"
    },
    {
     "data": {
      "application/javascript": [
       "if (typeof Jupyter !== \"undefined\") {require([\"nbextensions/vpython_libraries/glowcomm\"], function(){console.log(\"GLOWCOMM LOADED\");});}else{element.textContent = ' ';}"
      ],
      "text/plain": [
       "<IPython.core.display.Javascript object>"
      ]
     },
     "metadata": {},
     "output_type": "display_data"
    },
    {
     "data": {
      "application/javascript": [
       "if (typeof Jupyter !== \"undefined\") {require([\"nbextensions/vpython_libraries/jquery-ui.custom.min\"], function(){console.log(\"JQUERY LOADED\");});}else{element.textContent = ' ';}"
      ],
      "text/plain": [
       "<IPython.core.display.Javascript object>"
      ]
     },
     "metadata": {},
     "output_type": "display_data"
    }
   ],
   "source": [
    "import vpython as vp\n",
    "import numpy as np\n",
    "\n",
    "\n",
    "scene = vp.canvas()\n",
    "\n",
    "# Constants\n",
    "m = 1.67e-27  # Mass of proton (kg)\n",
    "q = 1.6e-19  # Charge of proton (C)\n",
    "\n",
    "# Function to calculate force\n",
    "def lorentz_force(E, B, proton):  # Pass the proton object\n",
    "    return (E + vp.cross(proton.v, B)) * q # Use proton.v for velocity\n",
    "\n",
    "# Scenario 2 parameters\n",
    "v0_2 = vp.vector(0, 4e6, 0)  # Initial velocity\n",
    "B_2 = vp.vector(0, 0, 0.5)  # Magnetic field\n",
    "E_2 = vp.vector(0, 5e5, 0)  # Electric field\n",
    "\n",
    "# Calculations for Scenario 2 \n",
    "R = m * v0_2.mag / (q * B_2.mag)\n",
    "T = (np.pi) * (2 * R / v0_2.mag)\n",
    "\n",
    "# Simulation\n",
    "proton2 = vp.sphere(pos=vp.vector(0, 0, 0), radius=0.01, v=v0_2, color=vp.color.green, make_trail=True)\n",
    "t = 0\n",
    "dt = .0001 * T \n",
    "\n",
    "while t < 6 * T:\n",
    "    vp.rate(1200)\n",
    "    F = lorentz_force(E_2,B_2, proton2)  # Pass the proton object\n",
    "    a = F / m\n",
    "    proton2.v += a * dt\n",
    "    proton2.pos += proton2.v * dt\n",
    "    t += dt\n"
   ]
  },
  {
   "cell_type": "code",
   "execution_count": null,
   "id": "54fe37ec",
   "metadata": {},
   "outputs": [],
   "source": []
  }
 ],
 "metadata": {
  "kernelspec": {
   "display_name": "Python 3 (ipykernel)",
   "language": "python",
   "name": "python3"
  },
  "language_info": {
   "codemirror_mode": {
    "name": "ipython",
    "version": 3
   },
   "file_extension": ".py",
   "mimetype": "text/x-python",
   "name": "python",
   "nbconvert_exporter": "python",
   "pygments_lexer": "ipython3",
   "version": "3.11.4"
  }
 },
 "nbformat": 4,
 "nbformat_minor": 5
}
