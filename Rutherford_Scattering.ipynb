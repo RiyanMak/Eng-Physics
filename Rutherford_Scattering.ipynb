{
 "cells": [
  {
   "cell_type": "code",
   "execution_count": 2,
   "id": "2ad76e9f",
   "metadata": {
    "scrolled": true
   },
   "outputs": [
    {
     "data": {
      "text/html": [
       "<div id=\"glowscript\" class=\"glowscript\"></div>"
      ],
      "text/plain": [
       "<IPython.core.display.HTML object>"
      ]
     },
     "metadata": {},
     "output_type": "display_data"
    },
    {
     "data": {
      "application/javascript": [
       "if (typeof Jupyter !== \"undefined\") { window.__context = { glowscript_container: $(\"#glowscript\").removeAttr(\"id\")};}else{ element.textContent = ' ';}"
      ],
      "text/plain": [
       "<IPython.core.display.Javascript object>"
      ]
     },
     "metadata": {},
     "output_type": "display_data"
    }
   ],
   "source": [
    "import numpy as np\n",
    "import vpython as vp\n",
    "\n",
    "\n",
    "x = 3e-13  # Initial x-coordinate of alpha particle (m)\n",
    "y = 0  # Initial y-coordinate of alpha particle (m)\n",
    "E = 1.232e-12  # Total energy of the system (J)\n",
    "m = 6.6e-27  # Mass of the alpha particle (kg)\n",
    "v = 19313207.92  # Initial velocity of alpha particle (m/s)\n",
    "z = 0  # Initial z-coordinate of alpha particle (m)\n",
    "\n",
    "# Time parameters\n",
    "t_max = 3.10668224e-20  # Maximum simulation time (s)\n",
    "dt = 3.10668224e-23  # Time step (s)\n",
    "t = 0  # Initial time (s)\n",
    "\n",
    "# Constants\n",
    "k = 1 / (4 * np.pi * (8.85e-12))  # Coulomb's constant (N m^2 / C^2)\n",
    "qau = (1.6E-19 * 79)  # Charge of gold nucleus (C)\n",
    "qalpha = (1.6E-19 * 2)  # Charge of alpha particle (C)\n",
    "R_alpha = 1.2 * (4) ** (1 / 3) * 1e-15  # Radius of alpha particle (m)\n",
    "R_au = 1.2 * (197) ** (1 / 3) * 1e-15  # Radius of gold nucleus (m)\n",
    "\n",
    "# VPython scene setup\n",
    "scene = vp.canvas()\n",
    "\n",
    "gold = vp.sphere(pos=vp.vector(0, 0, 0),\n",
    "                 radius=6.98 * 10 ** -15,\n",
    "                 color=vp.color.yellow)\n",
    "\n",
    "alpha = vp.sphere(pos=vp.vector(x, 3 * (10 ** -14), 0),\n",
    "                  radius=R_alpha,\n",
    "                  color=vp.color.red,\n",
    "                  velocity=vp.vector(-v, 0, 0),\n",
    "                  make_trail=True,\n",
    "                  trail_color=vp.color.white,\n",
    "                  trail_radius=.5 * 10 ** (-15) * 4 ** (1 / 3))\n",
    "\n",
    "# Graph setup\n",
    "vp.graph(title='Kinetic Energy vs Time',\n",
    "         xtitle='Time (s)',\n",
    "         ytitle='K(MeV)')\n",
    "kinetic_graph = vp.gcurve(color=vp.color.blue)\n",
    "\n",
    "vp.graph(title='Potential Energy vs Time',\n",
    "         xtitle='Time (s)',\n",
    "         ytitle='U(MeV)')\n",
    "potential_graph = vp.gcurve(color=vp.color.blue)\n",
    "\n",
    "vp.graph(title='Mechanical Energy vs Time',\n",
    "         xtitle='Time (s)',\n",
    "         ytitle='M (MeV)',\n",
    "         ymin=0,\n",
    "         ymax=10)\n",
    "mechanical_graph = vp.gcurve(color=vp.color.black)\n",
    "\n",
    "# Unit conversion factors\n",
    "fm_to_meter = 1.0 * (10 ** -15)\n",
    "meter_to_fm = 1 / fm_to_meter\n",
    "Mev_joule = 1.6 * (10 ** -13)\n",
    "Joule_mev = 1 / Mev_joule\n",
    "alphaEnergy = 7.7  # Energy of the alpha particle (MeV)\n",
    "\n",
    "\n",
    "while t < t_max:\n",
    "\n",
    "    r = alpha.pos.mag\n",
    "    F = ((alpha.pos.hat) * (k * qau * qalpha / alpha.pos.mag2))\n",
    "    a = F / m\n",
    "    alpha.velocity = alpha.velocity + (a * dt)\n",
    "    alpha.pos = alpha.pos + (alpha.velocity * dt)\n",
    "    t += dt\n",
    "    vp.rate(100)  \n",
    "\n",
    "    # Calculate kinetic and potential energies, and plot them\n",
    "    Kinetic = (1 / 2) * m * alpha.velocity.mag ** 2 * Joule_mev\n",
    "    Potential = k * qalpha * qau / r * Joule_mev\n",
    "    kinetic_graph.plot(t, Kinetic)\n",
    "    potential_graph.plot(t, Potential)\n",
    "    mechanical_graph.plot(t, Kinetic + Potential)\n"
   ]
  },
  {
   "cell_type": "code",
   "execution_count": null,
   "id": "a050888c",
   "metadata": {},
   "outputs": [],
   "source": []
  },
  {
   "cell_type": "code",
   "execution_count": null,
   "id": "7e53c675",
   "metadata": {},
   "outputs": [],
   "source": []
  },
  {
   "cell_type": "code",
   "execution_count": null,
   "id": "b616fe30",
   "metadata": {},
   "outputs": [],
   "source": []
  }
 ],
 "metadata": {
  "kernelspec": {
   "display_name": "Python 3 (ipykernel)",
   "language": "python",
   "name": "python3"
  },
  "language_info": {
   "codemirror_mode": {
    "name": "ipython",
    "version": 3
   },
   "file_extension": ".py",
   "mimetype": "text/x-python",
   "name": "python",
   "nbconvert_exporter": "python",
   "pygments_lexer": "ipython3",
   "version": "3.11.4"
  }
 },
 "nbformat": 4,
 "nbformat_minor": 5
}
