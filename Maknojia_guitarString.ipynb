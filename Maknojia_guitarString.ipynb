{
 "cells": [
  {
   "cell_type": "code",
   "execution_count": 11,
   "id": "393d976a",
   "metadata": {},
   "outputs": [
    {
     "data": {
      "application/vnd.jupyter.widget-view+json": {
       "model_id": "110b8dc8d79d49f7886f73c2122af393",
       "version_major": 2,
       "version_minor": 0
      },
      "text/plain": [
       "interactive(children=(IntSlider(value=3, description='n', max=5, min=1), FloatSlider(value=2.0, description='t…"
      ]
     },
     "metadata": {},
     "output_type": "display_data"
    },
    {
     "data": {
      "text/plain": [
       "<function __main__.pulse_animate(n, t)>"
      ]
     },
     "execution_count": 11,
     "metadata": {},
     "output_type": "execute_result"
    }
   ],
   "source": [
    "import numpy as np  \n",
    "import ipywidgets as wdg  \n",
    "import matplotlib.pyplot as plt  \n",
    "\n",
    "\n",
    "tensionForce = 60  # Tension force in newtons\n",
    "density = 3.09 * (10**-4)  # Density in kg/m^3\n",
    "v = np.sqrt(tensionForce / density)  # Wave velocity calculation\n",
    "\n",
    "\n",
    "A = 0.5  # Amplitude in cm\n",
    "L = 0.90  # Length of the string\n",
    "\n",
    "\n",
    "t_max = 5  # Maximum time for animation in seconds\n",
    "x_values = np.linspace(0, 0.9, 100)  # Creating an array of positions along the length\n",
    "\n",
    "\n",
    "# Function for the first wave component\n",
    "def func1(x, t, k, w):\n",
    "    y1 = 0.5 * np.sin(k * x + w * t)  \n",
    "    return y1\n",
    "\n",
    "\n",
    "# Function for the second wave component\n",
    "def func2(x, t, k, w):\n",
    "    y2 = 0.5 * np.sin(k * x - w * t) \n",
    "    return y2\n",
    "\n",
    "\n",
    "# Function to calculate the resultant wave at a given position and time\n",
    "def resultant(x, t, n):\n",
    "    wavelength = (2 / n) * L  # Wavelength calculation\n",
    "    k = 2 * np.pi / wavelength  # Wave number calculation\n",
    "    f = (n * v) / (2 * L)  # Frequency calculation\n",
    "    sf = str(f)  # String representation of frequency\n",
    "    T = 1 / f  # Period calculation\n",
    "    w = 2 * np.pi / T  # Angular frequency calculation\n",
    "    y_resultant = func1(x, t, k, w) + func2(x, t, k, w)  # Resultant wave obtained by adding two wave components\n",
    "    return y_resultant\n",
    "\n",
    "# Function to animate the pulse with interactive parameters\n",
    "def pulse_animate(n, t):\n",
    "    f = (n * v) / (2 * L)  # Frequency calculation\n",
    "    rounded_f = round(f, 2)  # Round frequency to 2 decimal places\n",
    "    sf = str(rounded_f)  # String representation of rounded frequency\n",
    "    plt.grid()  \n",
    "    plt.title(\"Amplitude\")  \n",
    "    plt.xlabel(\"Position (m)\")  \n",
    "    plt.ylabel(\"y\")  \n",
    "    plt.axis([0, L, -2 * A, 2 * A])  # Setting y-axis limits\n",
    "    plt.plot(x_values, resultant(x_values, t, n), label='f = ' + sf + ' Hz')  # Plotting the resultant wave with rounded frequency\n",
    "    plt.legend(loc='upper right')  # Adding legend to the plot\n",
    "    plt.show()  # Displaying the plot\n",
    "\n",
    "\n",
    "# Widgets for n and t\n",
    "wdg.interact(pulse_animate, n=(1, 5, 1), t=(0, t_max, 0.1))\n"
   ]
  },
  {
   "cell_type": "code",
   "execution_count": null,
   "id": "2c2b8c15",
   "metadata": {},
   "outputs": [],
   "source": []
  },
  {
   "cell_type": "code",
   "execution_count": null,
   "id": "42803c3c",
   "metadata": {},
   "outputs": [],
   "source": []
  }
 ],
 "metadata": {
  "kernelspec": {
   "display_name": "Python 3 (ipykernel)",
   "language": "python",
   "name": "python3"
  },
  "language_info": {
   "codemirror_mode": {
    "name": "ipython",
    "version": 3
   },
   "file_extension": ".py",
   "mimetype": "text/x-python",
   "name": "python",
   "nbconvert_exporter": "python",
   "pygments_lexer": "ipython3",
   "version": "3.11.4"
  }
 },
 "nbformat": 4,
 "nbformat_minor": 5
}
